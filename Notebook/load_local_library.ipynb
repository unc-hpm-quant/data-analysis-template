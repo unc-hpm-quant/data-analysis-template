{
  "nbformat": 4,
  "nbformat_minor": 0,
  "metadata": {
    "colab": {
      "provenance": [],
      "include_colab_link": true
    },
    "kernelspec": {
      "name": "python3",
      "display_name": "Python 3"
    },
    "language_info": {
      "name": "python"
    }
  },
  "cells": [
    {
      "cell_type": "markdown",
      "metadata": {
        "id": "view-in-github",
        "colab_type": "text"
      },
      "source": [
        "<a href=\"https://colab.research.google.com/github/Shuyi-Song/dhep-analysis-template/blob/master/load_local_library.ipynb\" target=\"_parent\"><img src=\"https://colab.research.google.com/assets/colab-badge.svg\" alt=\"Open In Colab\"/></a>"
      ]
    },
    {
      "cell_type": "code",
      "metadata": {
        "id": "2GUKvghBwgMw"
      },
      "source": [
        "%load_ext rpy2.ipython"
      ],
      "execution_count": null,
      "outputs": []
    },
    {
      "cell_type": "code",
      "metadata": {
        "colab": {
          "base_uri": "https://localhost:8080/"
        },
        "id": "cHb5kyK-wvdQ",
        "outputId": "bf836f9b-ba07-4bfe-d1be-658186df3282"
      },
      "source": [
        "from google.colab import drive\n",
        "drive.mount('/content/drive')"
      ],
      "execution_count": null,
      "outputs": [
        {
          "output_type": "stream",
          "name": "stdout",
          "text": [
            "Mounted at /content/drive\n"
          ]
        }
      ]
    },
    {
      "cell_type": "code",
      "metadata": {
        "colab": {
          "base_uri": "https://localhost:8080/"
        },
        "id": "iX5dR9CswvwM",
        "outputId": "0c7d1cbb-ea94-4a4b-9aee-d2dad2a8e2c1"
      },
      "source": [
        "%cp drive/MyDrive/src/library.tar.gz .\n",
        "!du -sh library.tar.gz"
      ],
      "execution_count": null,
      "outputs": [
        {
          "output_type": "stream",
          "name": "stdout",
          "text": [
            "51M\tlibrary.tar.gz\n"
          ]
        }
      ]
    },
    {
      "cell_type": "code",
      "metadata": {
        "colab": {
          "base_uri": "https://localhost:8080/"
        },
        "id": "ADWvSldC05Nl",
        "outputId": "e5192fcb-3b0f-4d62-cf85-034d9db960ed"
      },
      "source": [
        "!tar xf library.tar.gz"
      ],
      "execution_count": null,
      "outputs": [
        {
          "output_type": "stream",
          "name": "stdout",
          "text": [
            "tar: Removing leading `/' from member names\n"
          ]
        }
      ]
    },
    {
      "cell_type": "code",
      "metadata": {
        "colab": {
          "base_uri": "https://localhost:8080/"
        },
        "id": "WQ3jJLLn0gON",
        "outputId": "b92a8f19-b156-4934-88c8-82a1750db1ad"
      },
      "source": [
        "%ls usr/local/lib/R/site-library/"
      ],
      "execution_count": null,
      "outputs": [
        {
          "output_type": "stream",
          "name": "stdout",
          "text": [
            "\u001b[0m\u001b[01;34mconflicted\u001b[0m/    \u001b[01;34mglobals\u001b[0m/    \u001b[01;34mIRkernel\u001b[0m/   \u001b[01;34mparallelly\u001b[0m/  \u001b[01;34mprogressr\u001b[0m/   \u001b[01;34mtimeDate\u001b[0m/\n",
            "\u001b[01;34mdials\u001b[0m/         \u001b[01;34mgower\u001b[0m/      \u001b[01;34miterators\u001b[0m/  \u001b[01;34mparsnip\u001b[0m/     \u001b[01;34mrecipes\u001b[0m/     \u001b[01;34mtune\u001b[0m/\n",
            "\u001b[01;34mDiceDesign\u001b[0m/    \u001b[01;34mGPfit\u001b[0m/      \u001b[01;34mlava\u001b[0m/       \u001b[01;34mpatchwork\u001b[0m/   \u001b[01;34mrepr\u001b[0m/        \u001b[01;34mwarp\u001b[0m/\n",
            "\u001b[01;34mforeach\u001b[0m/       \u001b[01;34mhardhat\u001b[0m/    \u001b[01;34mlhs\u001b[0m/        \u001b[01;34mpbdZMQ\u001b[0m/      \u001b[01;34mrsample\u001b[0m/     \u001b[01;34mworkflows\u001b[0m/\n",
            "\u001b[01;34mfurrr\u001b[0m/         \u001b[01;34minfer\u001b[0m/      \u001b[01;34mlistenv\u001b[0m/    \u001b[01;34mplyr\u001b[0m/        \u001b[01;34mslider\u001b[0m/      \u001b[01;34mworkflowsets\u001b[0m/\n",
            "\u001b[01;34mfuture\u001b[0m/        \u001b[01;34mipred\u001b[0m/      \u001b[01;34mmodeldata\u001b[0m/  \u001b[01;34mpROC\u001b[0m/        \u001b[01;34mSQUAREM\u001b[0m/     \u001b[01;34myardstick\u001b[0m/\n",
            "\u001b[01;34mfuture.apply\u001b[0m/  \u001b[01;34mIRdisplay\u001b[0m/  \u001b[01;34mnumDeriv\u001b[0m/   \u001b[01;34mprodlim\u001b[0m/     \u001b[01;34mtidymodels\u001b[0m/\n"
          ]
        }
      ]
    },
    {
      "cell_type": "code",
      "metadata": {
        "id": "ZdTW2K-dxwlM"
      },
      "source": [
        "%%R\n",
        ".libPaths('usr/local/lib/R/site-library/')"
      ],
      "execution_count": null,
      "outputs": []
    },
    {
      "cell_type": "code",
      "metadata": {
        "colab": {
          "base_uri": "https://localhost:8080/"
        },
        "id": "U4cU9gEv0qdR",
        "outputId": "a9925d53-adf1-4495-9d9d-44e81a859e69"
      },
      "source": [
        "%%R\n",
        ".libPaths()"
      ],
      "execution_count": null,
      "outputs": [
        {
          "output_type": "stream",
          "name": "stdout",
          "text": [
            "[1] \"/content/usr/local/lib/R/site-library\"\n",
            "[2] \"/usr/local/lib/R/site-library\"        \n",
            "[3] \"/usr/lib/R/site-library\"              \n",
            "[4] \"/usr/lib/R/library\"                   \n"
          ]
        }
      ]
    },
    {
      "cell_type": "code",
      "metadata": {
        "colab": {
          "base_uri": "https://localhost:8080/"
        },
        "id": "56qaX8zvzPkf",
        "outputId": "8a136cdb-8044-492a-8d8c-6d82ca31de3a"
      },
      "source": [
        "%%R\n",
        "library(tidymodels)"
      ],
      "execution_count": null,
      "outputs": [
        {
          "output_type": "stream",
          "name": "stderr",
          "text": [
            "R[write to console]: Registered S3 method overwritten by 'tune':\n",
            "  method                   from   \n",
            "  required_pkgs.model_spec parsnip\n",
            "\n",
            "R[write to console]: ── Attaching packages ────────────────────────────────────── tidymodels 0.1.3 ──\n",
            "\n",
            "R[write to console]: ✔ broom        0.7.9      ✔ rsample      0.1.0 \n",
            "✔ dials        0.0.9      ✔ tune         0.1.6 \n",
            "✔ infer        1.0.0      ✔ workflows    0.2.3 \n",
            "✔ modeldata    0.1.1      ✔ workflowsets 0.1.0 \n",
            "✔ parsnip      0.1.7      ✔ yardstick    0.0.8 \n",
            "✔ recipes      0.1.16     \n",
            "\n",
            "R[write to console]: ── Conflicts ───────────────────────────────────────── tidymodels_conflicts() ──\n",
            "✖ scales::discard() masks purrr::discard()\n",
            "✖ dplyr::filter()   masks stats::filter()\n",
            "✖ recipes::fixed()  masks stringr::fixed()\n",
            "✖ dplyr::lag()      masks stats::lag()\n",
            "✖ yardstick::spec() masks readr::spec()\n",
            "✖ recipes::step()   masks stats::step()\n",
            "• Use tidymodels_prefer() to resolve common conflicts.\n",
            "\n"
          ]
        }
      ]
    }
  ]
}